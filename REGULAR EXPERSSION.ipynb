{
  "nbformat": 4,
  "nbformat_minor": 0,
  "metadata": {
    "colab": {
      "provenance": [],
      "authorship_tag": "ABX9TyPmYe2ccdI9cbeN3evg4voE",
      "include_colab_link": true
    },
    "kernelspec": {
      "name": "python3",
      "display_name": "Python 3"
    },
    "language_info": {
      "name": "python"
    }
  },
  "cells": [
    {
      "cell_type": "markdown",
      "metadata": {
        "id": "view-in-github",
        "colab_type": "text"
      },
      "source": [
        "<a href=\"https://colab.research.google.com/github/chahat7414gupta/DAILY-DOSE-/blob/main/REGULAR%20EXPERSSION.ipynb\" target=\"_parent\"><img src=\"https://colab.research.google.com/assets/colab-badge.svg\" alt=\"Open In Colab\"/></a>"
      ]
    },
    {
      "cell_type": "code",
      "execution_count": 1,
      "metadata": {
        "id": "MFFr7LAo6wuQ"
      },
      "outputs": [],
      "source": [
        "import re"
      ]
    },
    {
      "cell_type": "code",
      "source": [],
      "metadata": {
        "id": "VkL2Cmge4-xS"
      },
      "execution_count": 5,
      "outputs": []
    },
    {
      "cell_type": "code",
      "source": [],
      "metadata": {
        "colab": {
          "base_uri": "https://localhost:8080/"
        },
        "id": "FWzqg0Ij5ZrL",
        "outputId": "1b7d829e-04bc-4539-8bbd-256d060c49c5"
      },
      "execution_count": 6,
      "outputs": [
        {
          "output_type": "execute_result",
          "data": {
            "text/plain": [
              "[]"
            ]
          },
          "metadata": {},
          "execution_count": 6
        }
      ]
    },
    {
      "cell_type": "code",
      "source": [
        "text='''(09896)-9844-55   9896984455\n",
        "'''\n",
        "pattern = '\\d{10}|\\(\\d{5}\\)-\\d{4}-\\d{2}'\n",
        "\n",
        "matches = re.findall(pattern, text)\n",
        "matches"
      ],
      "metadata": {
        "colab": {
          "base_uri": "https://localhost:8080/"
        },
        "id": "E1DwNk5w5rOE",
        "outputId": "7a46a967-eb4e-4d04-c294-454cdf1bbbf0"
      },
      "execution_count": 14,
      "outputs": [
        {
          "output_type": "execute_result",
          "data": {
            "text/plain": [
              "['(09896)-9844-55', '9896984455']"
            ]
          },
          "metadata": {},
          "execution_count": 14
        }
      ]
    },
    {
      "cell_type": "code",
      "source": [
        "text=''' Note 1 - Overview\n",
        "Tesla, Inc. (“Tesla”, the “Company”, “we”, “us” or “our”) was incorporated in the State of Delaware on July 1, 2003. We design, develop, manufacture and sell high-performance fully electric vehicles and design, manufacture, install and sell solar energy generation and energy storage\n",
        "products. Our Chief Executive Officer, as the chief operating decision maker (“CODM”), organizes our company, manages resource allocations and measures performance among two operating and reportable segments: (i) automotive and (ii) energy generation and storage.\n",
        "Beginning in the first quarter of 2021, there has been a trend in many parts of the world of increasing availability and administration of vaccines\n",
        "against COVID-19, as well as an easing of restrictions on social, business, travel and government activities and functions. On the other hand, infection\n",
        "rates and regulations continue to fluctuate in various regions and there are ongoing global impacts resulting from the pandemic, including challenges\n",
        "and increases in costs for logistics and supply chains, such as increased port congestion, intermittent supplier delays and a shortfall of semiconductor\n",
        "supply. We have also previously been affected by temporary manufacturing closures, employment and compensation adjustments and impediments to\n",
        "administrative activities supporting our product deliveries and deployments.\n",
        "Note 2 - Summary of Significant Accounting Policies\n",
        "Unaudited Interim Financial Statements\n",
        "The consolidated balance sheet as of September 30, 2021, the consolidated statements of operations, the consolidated statements of\n",
        "comprehensive income, the consolidated statements of redeemable noncontrolling interests and equity for the three and nine months ended September\n",
        "30, 2021 and 2020 and the consolidated statements of cash flows for the nine months ended September 30, 2021 and 2020, as well as other information\n",
        "disclosed in the accompanying notes, are unaudited. The consolidated balance sheet as of December 31, 2020 was derived from the audited\n",
        "consolidated financial statements as of that date. The interim consolidated financial statements and the accompanying notes should be read in\n",
        "conjunction with the annual consolidated financial statements and the accompanying notes contained in our Annual Report on Form 10-K for the year\n",
        "ended December 31, 2020.\n",
        "'''"
      ],
      "metadata": {
        "id": "VwOddPNm57Y-"
      },
      "execution_count": 15,
      "outputs": []
    },
    {
      "cell_type": "code",
      "source": [
        "pattern='Note \\d - [^\\n]+'"
      ],
      "metadata": {
        "id": "SZ3ksByw9Rkf"
      },
      "execution_count": 24,
      "outputs": []
    },
    {
      "cell_type": "code",
      "source": [
        "matches = re.findall(pattern,text)\n",
        "\n"
      ],
      "metadata": {
        "id": "21P1mJ4h9boa"
      },
      "execution_count": 25,
      "outputs": []
    },
    {
      "cell_type": "code",
      "source": [
        "matches"
      ],
      "metadata": {
        "colab": {
          "base_uri": "https://localhost:8080/"
        },
        "id": "hSkDssYK9hHj",
        "outputId": "ba79107a-c7af-462a-ed70-8b4267bcdafa"
      },
      "execution_count": 26,
      "outputs": [
        {
          "output_type": "execute_result",
          "data": {
            "text/plain": [
              "['Note 1 - Overview', 'Note 2 - Summary of Significant Accounting Policies']"
            ]
          },
          "metadata": {},
          "execution_count": 26
        }
      ]
    },
    {
      "cell_type": "code",
      "source": [
        "text=''' The gross cost of operating lease vehicles in FY2021 Q1 was $4.85 billion.\n",
        "In previous quarter i.e. FY2020 Q4 it was $3 billion. \n",
        "'''"
      ],
      "metadata": {
        "id": "36Ozdbac9hzx"
      },
      "execution_count": 27,
      "outputs": []
    },
    {
      "cell_type": "code",
      "source": [
        "pattern='(FY[\\d{4}]+ Q[1-4]) [^\\$]+(\\$[\\d\\.]+)'"
      ],
      "metadata": {
        "id": "4Kc8Ji8yDy28"
      },
      "execution_count": 34,
      "outputs": []
    },
    {
      "cell_type": "code",
      "source": [
        "pattern='FY\\d{4} Q[1,2,3,4]'"
      ],
      "metadata": {
        "id": "ZHtuwbSd_L-h"
      },
      "execution_count": 28,
      "outputs": []
    },
    {
      "cell_type": "code",
      "source": [
        "pattern='\\$[\\d\\.]+'"
      ],
      "metadata": {
        "id": "CXHgGK4qBht9"
      },
      "execution_count": 31,
      "outputs": []
    },
    {
      "cell_type": "code",
      "source": [
        "matches = re.search(pattern,text)"
      ],
      "metadata": {
        "id": "djTAmznh_R3y"
      },
      "execution_count": 37,
      "outputs": []
    },
    {
      "cell_type": "code",
      "source": [
        "matches = re.findall(pattern,text)"
      ],
      "metadata": {
        "id": "VCNfUcOLEJ4s"
      },
      "execution_count": null,
      "outputs": []
    },
    {
      "cell_type": "code",
      "source": [
        "matches"
      ],
      "metadata": {
        "colab": {
          "base_uri": "https://localhost:8080/"
        },
        "id": "-fnoJ1hL_9zF",
        "outputId": "28093725-071e-40dd-f777-1c98fb88fde1"
      },
      "execution_count": 38,
      "outputs": [
        {
          "output_type": "execute_result",
          "data": {
            "text/plain": [
              "<re.Match object; span=(47, 66), match='FY2021 Q1 was $4.85'>"
            ]
          },
          "metadata": {},
          "execution_count": 38
        }
      ]
    },
    {
      "cell_type": "code",
      "source": [],
      "metadata": {
        "id": "hriTX4H5_-gs"
      },
      "execution_count": null,
      "outputs": []
    }
  ]
}